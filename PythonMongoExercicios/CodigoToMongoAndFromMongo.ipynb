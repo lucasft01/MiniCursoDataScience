{
 "cells": [
  {
   "cell_type": "code",
   "execution_count": 42,
   "metadata": {
    "collapsed": true
   },
   "outputs": [],
   "source": [
    "import pandas as pd\n",
    "from pymongo import MongoClient\n",
    "import csv"
   ]
  },
  {
   "cell_type": "code",
   "execution_count": 43,
   "metadata": {
    "collapsed": true
   },
   "outputs": [],
   "source": [
    "client = MongoClient()\n",
    "db = client[\"Exercicios\"]\n",
    "collection= db[\"Exercicio_05\"]"
   ]
  },
  {
   "cell_type": "markdown",
   "metadata": {},
   "source": [
    "## Dentro da variavel texto voĉe coloca o codigo"
   ]
  },
  {
   "cell_type": "code",
   "execution_count": 44,
   "metadata": {
    "collapsed": true
   },
   "outputs": [],
   "source": [
    "codigo = open('Exercicio_04.py', 'w')\n",
    "texto= \"\"\"\n",
    "import csv\n",
    "from pymongo import MongoClient\n",
    "\n",
    "def csv_to_json(db_name, collection_name, csv_file):\n",
    "    #CSV to JSON Conversion\n",
    "    Client = MongoClient()\n",
    "    db = Client[db_name] \n",
    "    collection = db[collection_name]\n",
    "    \n",
    "    with open(csv_file, \"rt\") as infile:\n",
    "        reader = csv.DictReader(infile)\n",
    "        next(reader)\n",
    "        for each in reader:\n",
    "            collection.insert_one(each)\n",
    "\n",
    "db_name = \"GECID3\"\n",
    "collection_name = \"Hepatitis\"\n",
    "csv_file = \"/home/lucasft/Documents/gdrive/Pastas_em_Geral/Data_Science/MongoGecid/Teste_Mongo_Python/PythonMongoDB/hepatitis.csv\"\n",
    "csv_to_json(db_name, collection_name, csv_file)\n",
    "\"\"\"\n",
    "codigo.writelines(texto)\n",
    "codigo.close()\n",
    "texto_Arquivo= open(\"Exercicio_04.py\", \"r\")\n",
    "codigo_Arquivo = texto_Arquivo.readlines()"
   ]
  },
  {
   "cell_type": "code",
   "execution_count": 45,
   "metadata": {
    "collapsed": true
   },
   "outputs": [],
   "source": [
    "dicionario={}\n",
    "for i in range(len(codigo_Arquivo)):\n",
    "    dicionario.setdefault(str(i), codigo_Arquivo[i])"
   ]
  },
  {
   "cell_type": "code",
   "execution_count": 46,
   "metadata": {},
   "outputs": [
    {
     "data": {
      "text/plain": [
       "{'0': '\\n',\n",
       " '1': 'import csv\\n',\n",
       " '10': '    with open(csv_file, \"rt\") as infile:\\n',\n",
       " '11': '        reader = csv.DictReader(infile)\\n',\n",
       " '12': '        next(reader)\\n',\n",
       " '13': '        for each in reader:\\n',\n",
       " '14': '            collection.insert_one(each)\\n',\n",
       " '15': '\\n',\n",
       " '16': 'db_name = \"GECID3\"\\n',\n",
       " '17': 'collection_name = \"Hepatitis\"\\n',\n",
       " '18': 'csv_file = \"/home/lucasft/Documents/gdrive/Pastas_em_Geral/Data_Science/MongoGecid/Teste_Mongo_Python/PythonMongoDB/hepatitis.csv\"\\n',\n",
       " '19': 'csv_to_json(db_name, collection_name, csv_file)\\n',\n",
       " '2': 'from pymongo import MongoClient\\n',\n",
       " '3': '\\n',\n",
       " '4': 'def csv_to_json(db_name, collection_name, csv_file):\\n',\n",
       " '5': '    #CSV to JSON Conversion\\n',\n",
       " '6': '    Client = MongoClient()\\n',\n",
       " '7': '    db = Client[db_name] \\n',\n",
       " '8': '    collection = db[collection_name]\\n',\n",
       " '9': '    \\n'}"
      ]
     },
     "execution_count": 46,
     "metadata": {},
     "output_type": "execute_result"
    }
   ],
   "source": [
    "dicionario"
   ]
  },
  {
   "cell_type": "code",
   "execution_count": 47,
   "metadata": {
    "scrolled": true
   },
   "outputs": [
    {
     "data": {
      "text/plain": [
       "<pymongo.results.InsertOneResult at 0x7fdc7b191d08>"
      ]
     },
     "execution_count": 47,
     "metadata": {},
     "output_type": "execute_result"
    }
   ],
   "source": [
    "collection.insert_one(dicionario)"
   ]
  },
  {
   "cell_type": "code",
   "execution_count": 48,
   "metadata": {
    "collapsed": true
   },
   "outputs": [],
   "source": [
    "def MongoDB_To_DataFrame(Name_DB, Name_Collection):\n",
    "    client = MongoClient()\n",
    "    db = client[Name_DB]\n",
    "    collection = db[Name_Collection]\n",
    "    data = pd.DataFrame(list(collection.find()))\n",
    "    return data"
   ]
  },
  {
   "cell_type": "code",
   "execution_count": 49,
   "metadata": {
    "collapsed": true
   },
   "outputs": [],
   "source": [
    "Name_DB = \"Exercicios\"\n",
    "Name_Collection = \"Exercicio_05\"\n",
    "df = MongoDB_To_DataFrame(Name_DB, Name_Collection)"
   ]
  },
  {
   "cell_type": "code",
   "execution_count": 50,
   "metadata": {},
   "outputs": [
    {
     "data": {
      "text/html": [
       "<div>\n",
       "<style>\n",
       "    .dataframe thead tr:only-child th {\n",
       "        text-align: right;\n",
       "    }\n",
       "\n",
       "    .dataframe thead th {\n",
       "        text-align: left;\n",
       "    }\n",
       "\n",
       "    .dataframe tbody tr th {\n",
       "        vertical-align: top;\n",
       "    }\n",
       "</style>\n",
       "<table border=\"1\" class=\"dataframe\">\n",
       "  <thead>\n",
       "    <tr style=\"text-align: right;\">\n",
       "      <th></th>\n",
       "      <th>0</th>\n",
       "      <th>1</th>\n",
       "      <th>10</th>\n",
       "      <th>11</th>\n",
       "      <th>12</th>\n",
       "      <th>13</th>\n",
       "      <th>14</th>\n",
       "      <th>15</th>\n",
       "      <th>16</th>\n",
       "      <th>17</th>\n",
       "      <th>...</th>\n",
       "      <th>19</th>\n",
       "      <th>2</th>\n",
       "      <th>3</th>\n",
       "      <th>4</th>\n",
       "      <th>5</th>\n",
       "      <th>6</th>\n",
       "      <th>7</th>\n",
       "      <th>8</th>\n",
       "      <th>9</th>\n",
       "      <th>_id</th>\n",
       "    </tr>\n",
       "  </thead>\n",
       "  <tbody>\n",
       "    <tr>\n",
       "      <th>0</th>\n",
       "      <td>\\n</td>\n",
       "      <td>import csv\\n</td>\n",
       "      <td>with open(csv_file, \"rt\") as infile:\\n</td>\n",
       "      <td>reader = csv.DictReader(infile)\\n</td>\n",
       "      <td>next(reader)\\n</td>\n",
       "      <td>for each in reader:\\n</td>\n",
       "      <td>collection.insert_one(each)\\n</td>\n",
       "      <td>\\n</td>\n",
       "      <td>db_name = \"GECID3\"\\n</td>\n",
       "      <td>collection_name = \"Hepatitis\"\\n</td>\n",
       "      <td>...</td>\n",
       "      <td>csv_to_json(db_name, collection_name, csv_file)\\n</td>\n",
       "      <td>from pymongo import MongoClient\\n</td>\n",
       "      <td>\\n</td>\n",
       "      <td>def csv_to_json(db_name, collection_name, csv_...</td>\n",
       "      <td>#CSV to JSON Conversion\\n</td>\n",
       "      <td>Client = MongoClient()\\n</td>\n",
       "      <td>db = Client[db_name] \\n</td>\n",
       "      <td>collection = db[collection_name]\\n</td>\n",
       "      <td>\\n</td>\n",
       "      <td>59e65feab787e6099c6dc41d</td>\n",
       "    </tr>\n",
       "  </tbody>\n",
       "</table>\n",
       "<p>1 rows × 21 columns</p>\n",
       "</div>"
      ],
      "text/plain": [
       "    0             1                                          10  \\\n",
       "0  \\n  import csv\\n      with open(csv_file, \"rt\") as infile:\\n   \n",
       "\n",
       "                                          11                      12  \\\n",
       "0          reader = csv.DictReader(infile)\\n          next(reader)\\n   \n",
       "\n",
       "                              13                                         14  \\\n",
       "0          for each in reader:\\n              collection.insert_one(each)\\n   \n",
       "\n",
       "   15                    16                               17  \\\n",
       "0  \\n  db_name = \"GECID3\"\\n  collection_name = \"Hepatitis\"\\n   \n",
       "\n",
       "             ...             \\\n",
       "0            ...              \n",
       "\n",
       "                                                  19  \\\n",
       "0  csv_to_json(db_name, collection_name, csv_file)\\n   \n",
       "\n",
       "                                   2   3  \\\n",
       "0  from pymongo import MongoClient\\n  \\n   \n",
       "\n",
       "                                                   4  \\\n",
       "0  def csv_to_json(db_name, collection_name, csv_...   \n",
       "\n",
       "                               5                             6  \\\n",
       "0      #CSV to JSON Conversion\\n      Client = MongoClient()\\n   \n",
       "\n",
       "                             7                                       8  \\\n",
       "0      db = Client[db_name] \\n      collection = db[collection_name]\\n   \n",
       "\n",
       "        9                       _id  \n",
       "0      \\n  59e65feab787e6099c6dc41d  \n",
       "\n",
       "[1 rows x 21 columns]"
      ]
     },
     "execution_count": 50,
     "metadata": {},
     "output_type": "execute_result"
    }
   ],
   "source": [
    "df"
   ]
  },
  {
   "cell_type": "code",
   "execution_count": 40,
   "metadata": {
    "collapsed": true
   },
   "outputs": [],
   "source": [
    "with open(\"Exercicio_04_FromMongoDB.py\", \"w\") as infile:\n",
    "    for item in range(0, df.size-1):\n",
    "        infile.write(str(df.get_value(index=0, col=str(item))))"
   ]
  },
  {
   "cell_type": "code",
   "execution_count": 41,
   "metadata": {},
   "outputs": [],
   "source": [
    "with open(\"Exercicio_04_FromMongoDB.py\", \"r\") as infile:\n",
    "#     print(infile.read())\n",
    "    exec(infile.read())"
   ]
  },
  {
   "cell_type": "code",
   "execution_count": null,
   "metadata": {
    "collapsed": true
   },
   "outputs": [],
   "source": []
  }
 ],
 "metadata": {
  "kernelspec": {
   "display_name": "Python 3",
   "language": "python",
   "name": "python3"
  },
  "language_info": {
   "codemirror_mode": {
    "name": "ipython",
    "version": 3
   },
   "file_extension": ".py",
   "mimetype": "text/x-python",
   "name": "python",
   "nbconvert_exporter": "python",
   "pygments_lexer": "ipython3",
   "version": "3.6.2"
  }
 },
 "nbformat": 4,
 "nbformat_minor": 2
}
