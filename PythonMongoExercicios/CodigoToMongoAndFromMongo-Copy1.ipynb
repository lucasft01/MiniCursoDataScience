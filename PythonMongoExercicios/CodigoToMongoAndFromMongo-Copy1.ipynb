{
 "cells": [
  {
   "cell_type": "code",
   "execution_count": 34,
   "metadata": {
    "collapsed": true
   },
   "outputs": [],
   "source": [
    "import pandas as pd\n",
    "from pymongo import MongoClient\n",
    "import csv"
   ]
  },
  {
   "cell_type": "code",
   "execution_count": 35,
   "metadata": {},
   "outputs": [],
   "source": [
    "client = MongoClient()\n",
    "db = client[\"CodigosPython\"]\n",
    "collection= db[\"Exercicio_01\"]"
   ]
  },
  {
   "cell_type": "code",
   "execution_count": 72,
   "metadata": {},
   "outputs": [
    {
     "data": {
      "text/plain": [
       "[]"
      ]
     },
     "execution_count": 72,
     "metadata": {},
     "output_type": "execute_result"
    }
   ],
   "source": [
    "client.db.collection_names()"
   ]
  },
  {
   "cell_type": "code",
   "execution_count": 70,
   "metadata": {},
   "outputs": [],
   "source": [
    "# client.CodigosPython.Exercicio_01.remove()"
   ]
  },
  {
   "cell_type": "code",
   "execution_count": 67,
   "metadata": {},
   "outputs": [
    {
     "name": "stderr",
     "output_type": "stream",
     "text": [
      "/home/lucasft/anaconda3/lib/python3.6/site-packages/ipykernel_launcher.py:1: DeprecationWarning: remove is deprecated. Use delete_one or delete_many instead.\n",
      "  \"\"\"Entry point for launching an IPython kernel.\n"
     ]
    },
    {
     "data": {
      "text/plain": [
       "{'n': 2, 'ok': 1.0}"
      ]
     },
     "execution_count": 67,
     "metadata": {},
     "output_type": "execute_result"
    }
   ],
   "source": [
    "# collection.remove()"
   ]
  },
  {
   "cell_type": "markdown",
   "metadata": {},
   "source": [
    "## Dentro da variavel texto voĉe coloca o codigo"
   ]
  },
  {
   "cell_type": "code",
   "execution_count": 107,
   "metadata": {},
   "outputs": [
    {
     "ename": "UnicodeDecodeError",
     "evalue": "'utf-8' codec can't decode byte 0xbc in position 11: invalid start byte",
     "output_type": "error",
     "traceback": [
      "\u001b[0;31m---------------------------------------------------------------------------\u001b[0m",
      "\u001b[0;31mUnicodeDecodeError\u001b[0m                        Traceback (most recent call last)",
      "\u001b[0;32m<ipython-input-107-69e42dbd0e51>\u001b[0m in \u001b[0;36m<module>\u001b[0;34m()\u001b[0m\n\u001b[1;32m      9\u001b[0m \u001b[0;31m# codigo.close()\u001b[0m\u001b[0;34m\u001b[0m\u001b[0;34m\u001b[0m\u001b[0m\n\u001b[1;32m     10\u001b[0m \u001b[0mtexto_Arquivo\u001b[0m\u001b[0;34m=\u001b[0m \u001b[0mopen\u001b[0m\u001b[0;34m(\u001b[0m\u001b[0;34m\"METODOLOGIA - IoT.docx\"\u001b[0m\u001b[0;34m,\u001b[0m \u001b[0;34m\"r\"\u001b[0m\u001b[0;34m)\u001b[0m\u001b[0;34m\u001b[0m\u001b[0m\n\u001b[0;32m---> 11\u001b[0;31m \u001b[0mcodigo_Arquivo\u001b[0m \u001b[0;34m=\u001b[0m \u001b[0mtexto_Arquivo\u001b[0m\u001b[0;34m.\u001b[0m\u001b[0mread\u001b[0m\u001b[0;34m(\u001b[0m\u001b[0;34m)\u001b[0m\u001b[0;34m\u001b[0m\u001b[0m\n\u001b[0m",
      "\u001b[0;32m~/anaconda3/lib/python3.6/codecs.py\u001b[0m in \u001b[0;36mdecode\u001b[0;34m(self, input, final)\u001b[0m\n\u001b[1;32m    319\u001b[0m         \u001b[0;31m# decode input (taking the buffer into account)\u001b[0m\u001b[0;34m\u001b[0m\u001b[0;34m\u001b[0m\u001b[0m\n\u001b[1;32m    320\u001b[0m         \u001b[0mdata\u001b[0m \u001b[0;34m=\u001b[0m \u001b[0mself\u001b[0m\u001b[0;34m.\u001b[0m\u001b[0mbuffer\u001b[0m \u001b[0;34m+\u001b[0m \u001b[0minput\u001b[0m\u001b[0;34m\u001b[0m\u001b[0m\n\u001b[0;32m--> 321\u001b[0;31m         \u001b[0;34m(\u001b[0m\u001b[0mresult\u001b[0m\u001b[0;34m,\u001b[0m \u001b[0mconsumed\u001b[0m\u001b[0;34m)\u001b[0m \u001b[0;34m=\u001b[0m \u001b[0mself\u001b[0m\u001b[0;34m.\u001b[0m\u001b[0m_buffer_decode\u001b[0m\u001b[0;34m(\u001b[0m\u001b[0mdata\u001b[0m\u001b[0;34m,\u001b[0m \u001b[0mself\u001b[0m\u001b[0;34m.\u001b[0m\u001b[0merrors\u001b[0m\u001b[0;34m,\u001b[0m \u001b[0mfinal\u001b[0m\u001b[0;34m)\u001b[0m\u001b[0;34m\u001b[0m\u001b[0m\n\u001b[0m\u001b[1;32m    322\u001b[0m         \u001b[0;31m# keep undecoded input until the next call\u001b[0m\u001b[0;34m\u001b[0m\u001b[0;34m\u001b[0m\u001b[0m\n\u001b[1;32m    323\u001b[0m         \u001b[0mself\u001b[0m\u001b[0;34m.\u001b[0m\u001b[0mbuffer\u001b[0m \u001b[0;34m=\u001b[0m \u001b[0mdata\u001b[0m\u001b[0;34m[\u001b[0m\u001b[0mconsumed\u001b[0m\u001b[0;34m:\u001b[0m\u001b[0;34m]\u001b[0m\u001b[0;34m\u001b[0m\u001b[0m\n",
      "\u001b[0;31mUnicodeDecodeError\u001b[0m: 'utf-8' codec can't decode byte 0xbc in position 11: invalid start byte"
     ]
    }
   ],
   "source": [
    "# codigo = open('Exercicio_01.c', 'w')\n",
    "# texto= \"\"\"\n",
    "# #include<stdio.h>\n",
    "# int main(){\n",
    "#     printf(\"Alo mundo!\");\n",
    "# }\n",
    "# \"\"\"\n",
    "# codigo.writelines(texto)\n",
    "# codigo.close()\n",
    "texto_Arquivo= open(\"METODOLOGIA - IoT.docx\", \"r\")\n",
    "codigo_Arquivo = texto_Arquivo.read()"
   ]
  },
  {
   "cell_type": "code",
   "execution_count": 74,
   "metadata": {
    "collapsed": true
   },
   "outputs": [],
   "source": [
    "dicionario={}\n",
    "for i in range(len(codigo_Arquivo)):\n",
    "    dicionario.setdefault(str(i), codigo_Arquivo[i])"
   ]
  },
  {
   "cell_type": "code",
   "execution_count": 75,
   "metadata": {},
   "outputs": [
    {
     "data": {
      "text/plain": [
       "{'0': '{\\n',\n",
       " '1': ' \"cells\": [\\n',\n",
       " '10': '     \"text\": [\\n',\n",
       " '11': '      \"c\\\\n\"\\n',\n",
       " '12': '     ]\\n',\n",
       " '13': '    }\\n',\n",
       " '14': '   ],\\n',\n",
       " '15': '   \"source\": [\\n',\n",
       " '16': '    \"print(\\\\\"c\\\\\")\"\\n',\n",
       " '17': '   ]\\n',\n",
       " '18': '  }\\n',\n",
       " '19': ' ],\\n',\n",
       " '2': '  {\\n',\n",
       " '20': ' \"metadata\": {\\n',\n",
       " '21': '  \"kernelspec\": {\\n',\n",
       " '22': '   \"display_name\": \"Python 3\",\\n',\n",
       " '23': '   \"language\": \"python\",\\n',\n",
       " '24': '   \"name\": \"python3\"\\n',\n",
       " '25': '  },\\n',\n",
       " '26': '  \"language_info\": {\\n',\n",
       " '27': '   \"codemirror_mode\": {\\n',\n",
       " '28': '    \"name\": \"ipython\",\\n',\n",
       " '29': '    \"version\": 3\\n',\n",
       " '3': '   \"cell_type\": \"code\",\\n',\n",
       " '30': '   },\\n',\n",
       " '31': '   \"file_extension\": \".py\",\\n',\n",
       " '32': '   \"mimetype\": \"text/x-python\",\\n',\n",
       " '33': '   \"name\": \"python\",\\n',\n",
       " '34': '   \"nbconvert_exporter\": \"python\",\\n',\n",
       " '35': '   \"pygments_lexer\": \"ipython3\",\\n',\n",
       " '36': '   \"version\": \"3.6.2\"\\n',\n",
       " '37': '  }\\n',\n",
       " '38': ' },\\n',\n",
       " '39': ' \"nbformat\": 4,\\n',\n",
       " '4': '   \"execution_count\": 1,\\n',\n",
       " '40': ' \"nbformat_minor\": 2\\n',\n",
       " '41': '}\\n',\n",
       " '5': '   \"metadata\": {},\\n',\n",
       " '6': '   \"outputs\": [\\n',\n",
       " '7': '    {\\n',\n",
       " '8': '     \"name\": \"stdout\",\\n',\n",
       " '9': '     \"output_type\": \"stream\",\\n'}"
      ]
     },
     "execution_count": 75,
     "metadata": {},
     "output_type": "execute_result"
    }
   ],
   "source": [
    "dicionario"
   ]
  },
  {
   "cell_type": "code",
   "execution_count": 76,
   "metadata": {
    "scrolled": true
   },
   "outputs": [
    {
     "data": {
      "text/plain": [
       "<pymongo.results.InsertOneResult at 0x7fb23d0bb488>"
      ]
     },
     "execution_count": 76,
     "metadata": {},
     "output_type": "execute_result"
    }
   ],
   "source": [
    "collection.insert_one(dicionario)"
   ]
  },
  {
   "cell_type": "code",
   "execution_count": 77,
   "metadata": {
    "collapsed": true
   },
   "outputs": [],
   "source": [
    "def MongoDB_To_DataFrame(Name_DB, Name_Collection):\n",
    "    client = MongoClient()\n",
    "    db = client[Name_DB]\n",
    "    collection = db[Name_Collection]\n",
    "    data = pd.DataFrame(list(collection.find()))\n",
    "    return data"
   ]
  },
  {
   "cell_type": "code",
   "execution_count": 79,
   "metadata": {},
   "outputs": [],
   "source": [
    "Name_DB = \"CodigosPython\"\n",
    "Name_Collection = \"Exercicio_01\"\n",
    "df = MongoDB_To_DataFrame(Name_DB, Name_Collection)"
   ]
  },
  {
   "cell_type": "code",
   "execution_count": 90,
   "metadata": {},
   "outputs": [
    {
     "data": {
      "text/html": [
       "<div>\n",
       "<style>\n",
       "    .dataframe thead tr:only-child th {\n",
       "        text-align: right;\n",
       "    }\n",
       "\n",
       "    .dataframe thead th {\n",
       "        text-align: left;\n",
       "    }\n",
       "\n",
       "    .dataframe tbody tr th {\n",
       "        vertical-align: top;\n",
       "    }\n",
       "</style>\n",
       "<table border=\"1\" class=\"dataframe\">\n",
       "  <thead>\n",
       "    <tr style=\"text-align: right;\">\n",
       "      <th></th>\n",
       "      <th>0</th>\n",
       "      <th>1</th>\n",
       "      <th>10</th>\n",
       "      <th>11</th>\n",
       "      <th>12</th>\n",
       "      <th>13</th>\n",
       "      <th>14</th>\n",
       "      <th>15</th>\n",
       "      <th>16</th>\n",
       "      <th>17</th>\n",
       "      <th>...</th>\n",
       "      <th>39</th>\n",
       "      <th>4</th>\n",
       "      <th>40</th>\n",
       "      <th>41</th>\n",
       "      <th>5</th>\n",
       "      <th>6</th>\n",
       "      <th>7</th>\n",
       "      <th>8</th>\n",
       "      <th>9</th>\n",
       "      <th>_id</th>\n",
       "    </tr>\n",
       "  </thead>\n",
       "  <tbody>\n",
       "    <tr>\n",
       "      <th>0</th>\n",
       "      <td>{\\n</td>\n",
       "      <td>\"cells\": [\\n</td>\n",
       "      <td>\"text\": [\\n</td>\n",
       "      <td>\"c\\n\"\\n</td>\n",
       "      <td>]\\n</td>\n",
       "      <td>}\\n</td>\n",
       "      <td>],\\n</td>\n",
       "      <td>\"source\": [\\n</td>\n",
       "      <td>\"print(\\\"c\\\")\"\\n</td>\n",
       "      <td>]\\n</td>\n",
       "      <td>...</td>\n",
       "      <td>\"nbformat\": 4,\\n</td>\n",
       "      <td>\"execution_count\": 1,\\n</td>\n",
       "      <td>\"nbformat_minor\": 2\\n</td>\n",
       "      <td>}\\n</td>\n",
       "      <td>\"metadata\": {},\\n</td>\n",
       "      <td>\"outputs\": [\\n</td>\n",
       "      <td>{\\n</td>\n",
       "      <td>\"name\": \"stdout\",\\n</td>\n",
       "      <td>\"output_type\": \"stream\",\\n</td>\n",
       "      <td>59e64105b787e60d364b4ab1</td>\n",
       "    </tr>\n",
       "  </tbody>\n",
       "</table>\n",
       "<p>1 rows × 43 columns</p>\n",
       "</div>"
      ],
      "text/plain": [
       "     0              1                10             11        12       13  \\\n",
       "0  {\\n   \"cells\": [\\n       \"text\": [\\n        \"c\\n\"\\n       ]\\n      }\\n   \n",
       "\n",
       "        14                15                    16      17  \\\n",
       "0     ],\\n     \"source\": [\\n      \"print(\\\"c\\\")\"\\n     ]\\n   \n",
       "\n",
       "             ...                            39                           4  \\\n",
       "0            ...              \"nbformat\": 4,\\n     \"execution_count\": 1,\\n   \n",
       "\n",
       "                       40   41                     5                  6  \\\n",
       "0   \"nbformat_minor\": 2\\n  }\\n     \"metadata\": {},\\n     \"outputs\": [\\n   \n",
       "\n",
       "         7                         8                                9  \\\n",
       "0      {\\n       \"name\": \"stdout\",\\n       \"output_type\": \"stream\",\\n   \n",
       "\n",
       "                        _id  \n",
       "0  59e64105b787e60d364b4ab1  \n",
       "\n",
       "[1 rows x 43 columns]"
      ]
     },
     "execution_count": 90,
     "metadata": {},
     "output_type": "execute_result"
    }
   ],
   "source": [
    "df"
   ]
  },
  {
   "cell_type": "code",
   "execution_count": 104,
   "metadata": {},
   "outputs": [
    {
     "ename": "ValueError",
     "evalue": "I/O operation on closed file.",
     "output_type": "error",
     "traceback": [
      "\u001b[0;31m---------------------------------------------------------------------------\u001b[0m",
      "\u001b[0;31mValueError\u001b[0m                                Traceback (most recent call last)",
      "\u001b[0;32m<ipython-input-104-a19dcd5a473c>\u001b[0m in \u001b[0;36m<module>\u001b[0;34m()\u001b[0m\n\u001b[1;32m      3\u001b[0m         \u001b[0minfile\u001b[0m\u001b[0;34m.\u001b[0m\u001b[0mwrite\u001b[0m\u001b[0;34m(\u001b[0m\u001b[0mstr\u001b[0m\u001b[0;34m(\u001b[0m\u001b[0mdf\u001b[0m\u001b[0;34m.\u001b[0m\u001b[0mget_value\u001b[0m\u001b[0;34m(\u001b[0m\u001b[0mindex\u001b[0m\u001b[0;34m=\u001b[0m\u001b[0;36m0\u001b[0m\u001b[0;34m,\u001b[0m \u001b[0mcol\u001b[0m\u001b[0;34m=\u001b[0m\u001b[0mstr\u001b[0m\u001b[0;34m(\u001b[0m\u001b[0mitem\u001b[0m\u001b[0;34m)\u001b[0m\u001b[0;34m)\u001b[0m\u001b[0;34m)\u001b[0m\u001b[0;34m)\u001b[0m\u001b[0;34m\u001b[0m\u001b[0m\n\u001b[1;32m      4\u001b[0m \u001b[0;34m\u001b[0m\u001b[0m\n\u001b[0;32m----> 5\u001b[0;31m \u001b[0minfile\u001b[0m\u001b[0;34m.\u001b[0m\u001b[0mreadlines\u001b[0m\u001b[0;34m(\u001b[0m\u001b[0;34m)\u001b[0m\u001b[0;34m\u001b[0m\u001b[0m\n\u001b[0m",
      "\u001b[0;31mValueError\u001b[0m: I/O operation on closed file."
     ]
    }
   ],
   "source": [
    "with open(\"ExercicioPY_01_FromMongoDB.ipynb\", \"w\") as infile:\n",
    "    for item in range(0, df.size-1):\n",
    "        infile.write(str(df.get_value(index=0, col=str(item))))\n",
    "        \n",
    "infile.readlines()"
   ]
  },
  {
   "cell_type": "code",
   "execution_count": 105,
   "metadata": {},
   "outputs": [],
   "source": [
    "with open(\"ExercicioPY_01_FromMongoDB.ipynb\", \"r\") as infile:\n",
    "#     print(infile.read())\n",
    "    exec(infile.read())"
   ]
  },
  {
   "cell_type": "code",
   "execution_count": null,
   "metadata": {
    "collapsed": true
   },
   "outputs": [],
   "source": []
  },
  {
   "cell_type": "code",
   "execution_count": null,
   "metadata": {
    "collapsed": true
   },
   "outputs": [],
   "source": []
  }
 ],
 "metadata": {
  "kernelspec": {
   "display_name": "Python 3",
   "language": "python",
   "name": "python3"
  },
  "language_info": {
   "codemirror_mode": {
    "name": "ipython",
    "version": 3
   },
   "file_extension": ".py",
   "mimetype": "text/x-python",
   "name": "python",
   "nbconvert_exporter": "python",
   "pygments_lexer": "ipython3",
   "version": "3.6.2"
  }
 },
 "nbformat": 4,
 "nbformat_minor": 2
}
