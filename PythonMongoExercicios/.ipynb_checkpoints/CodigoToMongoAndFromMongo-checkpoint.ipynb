{
 "cells": [
  {
   "cell_type": "code",
   "execution_count": null,
   "metadata": {
    "collapsed": true
   },
   "outputs": [],
   "source": [
    "import pymongo\n",
    "import pandas as pd\n",
    "from pymongo import MongoClient\n",
    "import csv"
   ]
  },
  {
   "cell_type": "code",
   "execution_count": null,
   "metadata": {
    "collapsed": true
   },
   "outputs": [],
   "source": [
    "client = MongoClient()\n",
    "db = client[\"Exercicios\"]\n",
    "collection= db[\"Exercicio_02\"]"
   ]
  },
  {
   "cell_type": "markdown",
   "metadata": {},
   "source": [
    "## Dentro da variavel texto voĉe coloca o codigo"
   ]
  },
  {
   "cell_type": "code",
   "execution_count": null,
   "metadata": {},
   "outputs": [],
   "source": [
    "codigo = open('Exercicio_02.py', 'w')\n",
    "texto= \"\"\"\n",
    "import csv\n",
    "from pymongo import MongoClient\n",
    "\n",
    "def csv_to_json(db_name, collection_name, csv_file):\n",
    "    #CSV to JSON Conversion\n",
    "    Client = MongoClient()\n",
    "    db = Client[db_name] \n",
    "    collection = db[collection_name]\n",
    "    \n",
    "    with open(csv_file, \"rt\") as infile:\n",
    "        reader = csv.DictReader(infile)\n",
    "        next(reader)\n",
    "        for each in reader:\n",
    "            collection.insert_one(each)\n",
    "\n",
    "db_name = \"GECID2\"\n",
    "collection_name = \"Hepatitis\"\n",
    "csv_file = \"/home/lucasft/Documents/gdrive/Pastas_em_Geral/Data_Science/MongoGecid/Teste_Mongo_Python/PythonMongoDB/hepatitis.csv\"\n",
    "csv_to_json(db_name, collection_name, csv_file)\n",
    "\"\"\"\n",
    "codigo.writelines(texto)\n",
    "codigo.close()\n",
    "texto_Arquivo= open(\"Exercicio_02.py\", \"r\")\n",
    "codigo_Arquivo = texto_Arquivo.readlines()"
   ]
  },
  {
   "cell_type": "code",
   "execution_count": null,
   "metadata": {},
   "outputs": [],
   "source": [
    "dicionario={}\n",
    "for i in range(len(codigo_Arquivo)):\n",
    "    dicionario.setdefault(str(i), codigo_Arquivo[i])"
   ]
  },
  {
   "cell_type": "code",
   "execution_count": null,
   "metadata": {},
   "outputs": [],
   "source": [
    "dicionario"
   ]
  },
  {
   "cell_type": "code",
   "execution_count": null,
   "metadata": {
    "scrolled": true
   },
   "outputs": [],
   "source": [
    "collection.insert_one(dicionario)"
   ]
  },
  {
   "cell_type": "code",
   "execution_count": null,
   "metadata": {
    "collapsed": true
   },
   "outputs": [],
   "source": [
    "def MongoDB_To_DataFrame(Name_DB, Name_Collection):\n",
    "    client = MongoClient()\n",
    "    db = client[Name_DB]\n",
    "    collection = db[Name_Collection]\n",
    "    data = pd.DataFrame(list(collection.find()))\n",
    "    return data"
   ]
  },
  {
   "cell_type": "code",
   "execution_count": null,
   "metadata": {
    "collapsed": true
   },
   "outputs": [],
   "source": [
    "Name_DB = \"Exercicios\"\n",
    "Name_Collection = \"Exercicio_02\"\n",
    "df = MongoDB_To_DataFrame(Name_DB, Name_Collection)"
   ]
  },
  {
   "cell_type": "code",
   "execution_count": null,
   "metadata": {},
   "outputs": [],
   "source": [
    "with open(\"Exercicio_02_FromMongoDB.py\", \"w\") as infile:\n",
    "    for item in range(0, df.size-1):\n",
    "        infile.write(str(df.get_value(index=0, col=str(item))))"
   ]
  },
  {
   "cell_type": "code",
   "execution_count": null,
   "metadata": {
    "collapsed": true
   },
   "outputs": [],
   "source": [
    "with open(\"Exercicio_02_FromMongoDB.py\", \"r\") as infile:\n",
    "#     print(infile.read())\n",
    "    exec(infile.read())"
   ]
  }
 ],
 "metadata": {
  "kernelspec": {
   "display_name": "Python 3",
   "language": "python",
   "name": "python3"
  },
  "language_info": {
   "codemirror_mode": {
    "name": "ipython",
    "version": 3
   },
   "file_extension": ".py",
   "mimetype": "text/x-python",
   "name": "python",
   "nbconvert_exporter": "python",
   "pygments_lexer": "ipython3",
   "version": "3.6.2"
  }
 },
 "nbformat": 4,
 "nbformat_minor": 2
}
