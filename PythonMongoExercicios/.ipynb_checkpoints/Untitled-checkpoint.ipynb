{
 "cells": [
  {
   "cell_type": "code",
   "execution_count": 252,
   "metadata": {
    "collapsed": true
   },
   "outputs": [],
   "source": [
    "import pymongo\n",
    "import pandas as pd\n",
    "from pymongo import MongoClient\n",
    "import json, csv"
   ]
  },
  {
   "cell_type": "code",
   "execution_count": 253,
   "metadata": {},
   "outputs": [],
   "source": [
    "client = MongoClient()\n",
    "db = client[\"Exercicios\"]\n",
    "collection= db[\"Exercicio_01\"]"
   ]
  },
  {
   "cell_type": "code",
   "execution_count": 71,
   "metadata": {},
   "outputs": [
    {
     "name": "stderr",
     "output_type": "stream",
     "text": [
      "/home/lucasft/anaconda3/lib/python3.6/site-packages/ipykernel_launcher.py:1: DeprecationWarning: remove is deprecated. Use delete_one or delete_many instead.\n",
      "  \"\"\"Entry point for launching an IPython kernel.\n"
     ]
    },
    {
     "data": {
      "text/plain": [
       "{'n': 0, 'ok': 1.0}"
      ]
     },
     "execution_count": 71,
     "metadata": {},
     "output_type": "execute_result"
    }
   ],
   "source": [
    "db.Exercicio_01.remove()"
   ]
  },
  {
   "cell_type": "code",
   "execution_count": null,
   "metadata": {
    "collapsed": true
   },
   "outputs": [],
   "source": [
    "texto= \"\"\"\n",
    "import csv\n",
    "from pymongo import MongoClient\n",
    "\n",
    "def csv_to_json(db_name, collection_name, csv_file):\n",
    "    #CSV to JSON Conversion\n",
    "    Client = MongoClient()\n",
    "    db = Client[db_name] \n",
    "    collection = db[collection_name]\n",
    "    \n",
    "    with open(csv_file, \"rt\") as infile:\n",
    "        reader = csv.DictReader(infile)\n",
    "        next(reader)\n",
    "        for each in reader:\n",
    "            collection.insert_one(each)\n",
    "\n",
    "db_name = \"GECID2\"\n",
    "collection_name = \"Hepatitis\"\n",
    "csv_file = \"/home/lucasft/Documents/gdrive/Pastas_em_Geral/Data_Science/MongoGecid/Teste_Mongo_Python/PythonMongoDB/hepatitis.csv\"\n",
    "csv_to_json(db_name, collection_name, csv_file)\n",
    "    \n",
    "\"\"\""
   ]
  },
  {
   "cell_type": "code",
   "execution_count": 405,
   "metadata": {},
   "outputs": [],
   "source": [
    "codigo = open('codigoSplit.csv', 'w')\n",
    "texto= \"\"\"\n",
    "import csv\n",
    "from pymongo import MongoClient\n",
    "\n",
    "def csv_to_json(db_name, collection_name, csv_file):\n",
    "    #CSV to JSON Conversion\n",
    "    Client = MongoClient()\n",
    "    db = Client[db_name] \n",
    "    collection = db[collection_name]\n",
    "    \n",
    "    with open(csv_file, \"rt\") as infile:\n",
    "        reader = csv.DictReader(infile)\n",
    "        next(reader)\n",
    "        for each in reader:\n",
    "            collection.insert_one(each)\n",
    "\n",
    "db_name = \"GECID2\"\n",
    "collection_name = \"Hepatitis\"\n",
    "csv_file = \"/home/lucasft/Documents/gdrive/Pastas_em_Geral/Data_Science/MongoGecid/Teste_Mongo_Python/PythonMongoDB/hepatitis.csv\"\n",
    "csv_to_json(db_name, collection_name, csv_file)\n",
    "    \n",
    "\"\"\"\n",
    "textoStr= str(texto)\n",
    "textoSplit= textoStr.split('\\n')\n",
    "for item in textoSplit:\n",
    "    codigo.write(item)\n",
    "# codigo.writelines(texto)\n",
    "codigo.close()\n",
    "\n",
    "# with open(\"codigo.csv\", \"rt\") as infile:\n",
    "#         reader = csv.DictReader(infile)\n",
    "# #         next(reader)\n",
    "#         for each in reader:\n",
    "#             print(each)\n",
    "#             collection.insert_one(each)\n",
    "codigo= open(\"codigoPronto.csv\", \"r\")\n",
    "texto = codigo.readlines()\n",
    "# jsonText= json.loads(codigo)\n",
    "# dataframe= pd.DataFrame(texto1)\n",
    "# dictionary= dataframe.to_dict()\n",
    "# dataframe.index\n",
    "# # for i in dataframe:\n",
    "# #     dataframe.get_value(col=0, index=i.index)"
   ]
  },
  {
   "cell_type": "code",
   "execution_count": 408,
   "metadata": {},
   "outputs": [
    {
     "data": {
      "text/plain": [
       "['\\n', 'for i in range(0, 10):\\n', '    print(i)\\n']"
      ]
     },
     "execution_count": 408,
     "metadata": {},
     "output_type": "execute_result"
    }
   ],
   "source": [
    "texto"
   ]
  },
  {
   "cell_type": "code",
   "execution_count": 548,
   "metadata": {},
   "outputs": [
    {
     "data": {
      "text/plain": [
       "3"
      ]
     },
     "execution_count": 548,
     "metadata": {},
     "output_type": "execute_result"
    }
   ],
   "source": [
    "len(texto)"
   ]
  },
  {
   "cell_type": "code",
   "execution_count": 467,
   "metadata": {
    "collapsed": true
   },
   "outputs": [],
   "source": [
    "df= pd.DataFrame(texto)"
   ]
  },
  {
   "cell_type": "code",
   "execution_count": 468,
   "metadata": {},
   "outputs": [
    {
     "data": {
      "text/html": [
       "<div>\n",
       "<style>\n",
       "    .dataframe thead tr:only-child th {\n",
       "        text-align: right;\n",
       "    }\n",
       "\n",
       "    .dataframe thead th {\n",
       "        text-align: left;\n",
       "    }\n",
       "\n",
       "    .dataframe tbody tr th {\n",
       "        vertical-align: top;\n",
       "    }\n",
       "</style>\n",
       "<table border=\"1\" class=\"dataframe\">\n",
       "  <thead>\n",
       "    <tr style=\"text-align: right;\">\n",
       "      <th></th>\n",
       "      <th>0</th>\n",
       "    </tr>\n",
       "  </thead>\n",
       "  <tbody>\n",
       "    <tr>\n",
       "      <th>0</th>\n",
       "      <td>\\n</td>\n",
       "    </tr>\n",
       "    <tr>\n",
       "      <th>1</th>\n",
       "      <td>for i in range(0, 10):\\n</td>\n",
       "    </tr>\n",
       "    <tr>\n",
       "      <th>2</th>\n",
       "      <td>print(i)\\n</td>\n",
       "    </tr>\n",
       "  </tbody>\n",
       "</table>\n",
       "</div>"
      ],
      "text/plain": [
       "                          0\n",
       "0                        \\n\n",
       "1  for i in range(0, 10):\\n\n",
       "2                print(i)\\n"
      ]
     },
     "execution_count": 468,
     "metadata": {},
     "output_type": "execute_result"
    }
   ],
   "source": [
    "df"
   ]
  },
  {
   "cell_type": "code",
   "execution_count": 466,
   "metadata": {},
   "outputs": [],
   "source": [
    "# df.to_dict('records')"
   ]
  },
  {
   "cell_type": "code",
   "execution_count": 469,
   "metadata": {},
   "outputs": [],
   "source": [
    "with open(\"codigoPronto.txt\", \"w\") as infile:\n",
    "#     for item in range(0, df.size):\n",
    "    infile.write(str(df.to_dict()))\n",
    "#         infile.writelines(str(df.values[item][0]))"
   ]
  },
  {
   "cell_type": "code",
   "execution_count": 470,
   "metadata": {},
   "outputs": [],
   "source": [
    "dfDictionary= df.to_dict()"
   ]
  },
  {
   "cell_type": "code",
   "execution_count": 476,
   "metadata": {},
   "outputs": [
    {
     "data": {
      "text/plain": [
       "{0: {0: '\\n', 1: 'for i in range(0, 10):\\n', 2: '    print(i)\\n'},\n",
       " '_id': ObjectId('59e5ec09b787e614c62debd3')}"
      ]
     },
     "execution_count": 476,
     "metadata": {},
     "output_type": "execute_result"
    }
   ],
   "source": [
    "dfDictionary"
   ]
  },
  {
   "cell_type": "code",
   "execution_count": 497,
   "metadata": {},
   "outputs": [],
   "source": [
    "StringDF= df.to_string()"
   ]
  },
  {
   "cell_type": "code",
   "execution_count": 516,
   "metadata": {},
   "outputs": [
    {
     "name": "stdout",
     "output_type": "stream",
     "text": [
      "                          0\n",
      "0                        \\n\n",
      "1  for i in range(0, 10):\\n\n",
      "2                print(i)\\n\n"
     ]
    }
   ],
   "source": [
    "print(StringDF)"
   ]
  },
  {
   "cell_type": "code",
   "execution_count": 528,
   "metadata": {},
   "outputs": [
    {
     "data": {
      "text/plain": [
       "['                          0',\n",
       " '0                        \\\\n',\n",
       " '1  for i in range(0, 10):\\\\n',\n",
       " '2                print(i)\\\\n']"
      ]
     },
     "execution_count": 528,
     "metadata": {},
     "output_type": "execute_result"
    }
   ],
   "source": [
    "SplitString= StringDF.split(\"\\n\")\n",
    "SplitString"
   ]
  },
  {
   "cell_type": "code",
   "execution_count": 563,
   "metadata": {},
   "outputs": [],
   "source": [
    "dicionario={}\n",
    "for i in range(len(texto)):\n",
    "    dicionario.setdefault(str(i), texto[i])\n",
    "# dicionario[0]= texto[0]\n",
    "# dicionario[1]= texto[1]\n",
    "# dicionario[2]= texto[2]"
   ]
  },
  {
   "cell_type": "code",
   "execution_count": 564,
   "metadata": {},
   "outputs": [
    {
     "data": {
      "text/plain": [
       "dict_items([('0', '\\n'), ('1', 'for i in range(0, 10):\\n'), ('2', '    print(i)\\n')])"
      ]
     },
     "execution_count": 564,
     "metadata": {},
     "output_type": "execute_result"
    }
   ],
   "source": [
    "dicionario.items()"
   ]
  },
  {
   "cell_type": "code",
   "execution_count": 567,
   "metadata": {},
   "outputs": [
    {
     "name": "stdout",
     "output_type": "stream",
     "text": [
      "\n",
      "\n",
      "for i in range(0, 10):\n",
      "\n",
      "    print(i)\n",
      "\n"
     ]
    }
   ],
   "source": [
    "print(dicionario[\"0\"])\n",
    "print(dicionario[\"1\"])\n",
    "print(dicionario[\"2\"])"
   ]
  },
  {
   "cell_type": "code",
   "execution_count": 473,
   "metadata": {},
   "outputs": [
    {
     "data": {
      "text/plain": [
       "dict"
      ]
     },
     "execution_count": 473,
     "metadata": {},
     "output_type": "execute_result"
    }
   ],
   "source": [
    "# for item in dataframe_json:\n",
    "#        print(item.\n",
    "type(dfDictionary)"
   ]
  },
  {
   "cell_type": "code",
   "execution_count": 581,
   "metadata": {},
   "outputs": [
    {
     "name": "stderr",
     "output_type": "stream",
     "text": [
      "/home/lucasft/anaconda3/lib/python3.6/site-packages/ipykernel_launcher.py:1: DeprecationWarning: remove is deprecated. Use delete_one or delete_many instead.\n",
      "  \"\"\"Entry point for launching an IPython kernel.\n"
     ]
    },
    {
     "data": {
      "text/plain": [
       "{'n': 1, 'ok': 1.0}"
      ]
     },
     "execution_count": 581,
     "metadata": {},
     "output_type": "execute_result"
    }
   ],
   "source": [
    "db.Exercicio_01.remove()\n"
   ]
  },
  {
   "cell_type": "code",
   "execution_count": 583,
   "metadata": {},
   "outputs": [],
   "source": [
    "nums= collection.insert_one(dicionario)"
   ]
  },
  {
   "cell_type": "code",
   "execution_count": 585,
   "metadata": {},
   "outputs": [],
   "source": [
    "data = pd.DataFrame(list(collection.find()))"
   ]
  },
  {
   "cell_type": "code",
   "execution_count": 586,
   "metadata": {},
   "outputs": [
    {
     "data": {
      "text/html": [
       "<div>\n",
       "<style>\n",
       "    .dataframe thead tr:only-child th {\n",
       "        text-align: right;\n",
       "    }\n",
       "\n",
       "    .dataframe thead th {\n",
       "        text-align: left;\n",
       "    }\n",
       "\n",
       "    .dataframe tbody tr th {\n",
       "        vertical-align: top;\n",
       "    }\n",
       "</style>\n",
       "<table border=\"1\" class=\"dataframe\">\n",
       "  <thead>\n",
       "    <tr style=\"text-align: right;\">\n",
       "      <th></th>\n",
       "      <th>0</th>\n",
       "      <th>1</th>\n",
       "      <th>2</th>\n",
       "      <th>_id</th>\n",
       "    </tr>\n",
       "  </thead>\n",
       "  <tbody>\n",
       "    <tr>\n",
       "      <th>0</th>\n",
       "      <td>\\n</td>\n",
       "      <td>for i in range(0, 10):\\n</td>\n",
       "      <td>print(i)\\n</td>\n",
       "      <td>59e5f09bb787e614c62debd7</td>\n",
       "    </tr>\n",
       "  </tbody>\n",
       "</table>\n",
       "</div>"
      ],
      "text/plain": [
       "    0                         1               2                       _id\n",
       "0  \\n  for i in range(0, 10):\\n      print(i)\\n  59e5f09bb787e614c62debd7"
      ]
     },
     "execution_count": 586,
     "metadata": {},
     "output_type": "execute_result"
    }
   ],
   "source": [
    "data"
   ]
  },
  {
   "cell_type": "code",
   "execution_count": 609,
   "metadata": {},
   "outputs": [
    {
     "data": {
      "text/plain": [
       "'for i in range(0, 10):\\n'"
      ]
     },
     "execution_count": 609,
     "metadata": {},
     "output_type": "execute_result"
    }
   ],
   "source": [
    "data.get_value(index=0, col=\"1\")"
   ]
  },
  {
   "cell_type": "code",
   "execution_count": 591,
   "metadata": {},
   "outputs": [
    {
     "data": {
      "text/plain": [
       "4"
      ]
     },
     "execution_count": 591,
     "metadata": {},
     "output_type": "execute_result"
    }
   ],
   "source": [
    "data.size"
   ]
  },
  {
   "cell_type": "code",
   "execution_count": 635,
   "metadata": {},
   "outputs": [],
   "source": [
    "with open(\"codigoFromMongoDB.py\", \"w\") as infile:\n",
    "    for item in range(0, data.size-1):\n",
    "        infile.write(str(data.get_value(index=0, col=str(item))))"
   ]
  },
  {
   "cell_type": "code",
   "execution_count": 636,
   "metadata": {},
   "outputs": [
    {
     "name": "stdout",
     "output_type": "stream",
     "text": [
      "0\n",
      "1\n",
      "2\n",
      "3\n",
      "4\n",
      "5\n",
      "6\n",
      "7\n",
      "8\n",
      "9\n"
     ]
    }
   ],
   "source": [
    "with open(\"codigoFromMongoDB.py\", \"r\") as infile:\n",
    "#     print(infile.read())\n",
    "    exec(infile.read())"
   ]
  },
  {
   "cell_type": "code",
   "execution_count": null,
   "metadata": {
    "collapsed": true
   },
   "outputs": [],
   "source": []
  }
 ],
 "metadata": {
  "kernelspec": {
   "display_name": "Python 3",
   "language": "python",
   "name": "python3"
  },
  "language_info": {
   "codemirror_mode": {
    "name": "ipython",
    "version": 3
   },
   "file_extension": ".py",
   "mimetype": "text/x-python",
   "name": "python",
   "nbconvert_exporter": "python",
   "pygments_lexer": "ipython3",
   "version": "3.6.2"
  }
 },
 "nbformat": 4,
 "nbformat_minor": 2
}
